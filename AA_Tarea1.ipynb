{
  "nbformat": 4,
  "nbformat_minor": 0,
  "metadata": {
    "colab": {
      "provenance": [],
      "authorship_tag": "ABX9TyM6nPkQ1HAmLyFdRL36yBut",
      "include_colab_link": true
    },
    "kernelspec": {
      "name": "python3",
      "display_name": "Python 3"
    },
    "language_info": {
      "name": "python"
    }
  },
  "cells": [
    {
      "cell_type": "markdown",
      "metadata": {
        "id": "view-in-github",
        "colab_type": "text"
      },
      "source": [
        "<a href=\"https://colab.research.google.com/github/EmmanuelRamosSull/BaseDatosRelacionales/blob/main/AA_Tarea1.ipynb\" target=\"_parent\"><img src=\"https://colab.research.google.com/assets/colab-badge.svg\" alt=\"Open In Colab\"/></a>"
      ]
    },
    {
      "cell_type": "markdown",
      "source": [
        "# Predict Hearth Atack using classification and clustering\n",
        "\n",
        "\n",
        "En este DataSet de Kaggle el cual esta dentro de la categoria de Salud, se trabajara con datos de Ataques al corazon, teniendo una columna de output la cual indica que existen ataques al corazon basado en esos registros, El dataSet contiene mediciones tanto de:\n",
        "\n",
        "* presion arterial\n",
        "* colesterol en sangre \n",
        "* Azucar en sangre\n",
        "* Maximos latidos de el corazon alcanzados \n",
        "* Genero , Edad\n",
        "\n",
        "Las columnas mencionadas arriba son solo algunas , El DataSet consta de 2 archivos uno con 14 columnas y otro con solo una medicion (Nivel de saturacion en sangre).\n",
        "\n",
        "## Justificacion\n",
        "\n",
        "\n",
        "Mi elección sobre el dataSet es por el interés de saber cuáles son las causas que tienen mayor importancia al momento de que un paciente presente un ataque cardiaco, además de lo anterior mencionado creo que serviría de mucho si a este dataSet se le pudiese agregar información de decesos por Covid- 19 con personas con comorbilidades tales como un ataque al corazón. Tengo el interés de desglosar las colmnas y tratar de encontrar algún tipo de patrón, el cual no sea tan notorio del por que una persona pueda presentar un ataque cardiaco. Me gustaría realizar un modelo de clustering hacia este dataset junto con sus gráficas correspondientes.\n",
        "\n",
        "\n",
        "## Objetivo\n",
        "Mi objetivo del curso es realizar un modelo tanto de clasificación como de clustering con un porcentaje de decente precisión. Otro de mis objetivos dentro de este curso de aprendizaje automático serán la comparación de modelos de clasificación y tener un sustento de cual fue el mejor modelo de datos para este dataset especifico.\n",
        "\n",
        "#### Link Kaggle\n",
        "https://www.kaggle.com/datasets/rashikrahmanpritom/heart-attack-analysis-prediction-dataset/versions/2?resource=download&select=heart.csv\n",
        "\n",
        "\n"
      ],
      "metadata": {
        "id": "FmmSdUuzInDf"
      }
    }
  ]
}