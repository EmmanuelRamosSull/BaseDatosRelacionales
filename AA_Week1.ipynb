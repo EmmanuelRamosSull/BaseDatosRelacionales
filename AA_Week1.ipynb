{
  "nbformat": 4,
  "nbformat_minor": 0,
  "metadata": {
    "colab": {
      "provenance": [],
      "authorship_tag": "ABX9TyOouyriG/8yNOJ+mD7HPnNd",
      "include_colab_link": true
    },
    "kernelspec": {
      "name": "python3",
      "display_name": "Python 3"
    },
    "language_info": {
      "name": "python"
    }
  },
  "cells": [
    {
      "cell_type": "markdown",
      "metadata": {
        "id": "view-in-github",
        "colab_type": "text"
      },
      "source": [
        "<a href=\"https://colab.research.google.com/github/EmmanuelRamosSull/BaseDatosRelacionales/blob/main/AA_Week1.ipynb\" target=\"_parent\"><img src=\"https://colab.research.google.com/assets/colab-badge.svg\" alt=\"Open In Colab\"/></a>"
      ]
    },
    {
      "cell_type": "code",
      "execution_count": null,
      "metadata": {
        "id": "VFLPxeetIAk-"
      },
      "outputs": [],
      "source": [
        "#Predict Hearth Atack using classification\n",
        "\n",
        "### En este DataSet de Kaggle el cual esta dentro de la categoria de Salud, se trabajara con datos de Ataques al corazon, teniendo una columna de output la cual indica que \n",
        "### existen ataques al corazon basado en esos registros, El dataSet contiene mediciones tanto de:\n",
        "\n",
        "### * presion arterial  \n",
        "### * colesterol en sangre \n",
        "### * Azucar en sangre \n",
        "### * Maximos latidos de el corazon alcanzados \n",
        "### * Genero , Edad\n",
        "\n",
        "## Las columnas mencionadas arriba son solo algunas , El DataSet consta de 2 archivos uno con 14 columnas y otro con solo una medicion (Nivel de saturacion en sangre).\n",
        "\n",
        "## Mi Eleccion sobre el dataSet es por el interes de saber cuales son las causas las cuales tienen mayor peso a la hora de que un paciente presente un ataque cardiaco\n",
        "## Tengo el interes de desglosar las colmnas y tratar de encontrar algun tipo de patron el cual no sea tan notorio del por que una persona pueda presentar un ataque cardiaco.\n",
        "\n",
        "\n",
        "## Mi objetivo del curso es realizar un modelo tanto de clasificacion como de clustering con un porcentaje desente precision.\n",
        "\n",
        "\n",
        "\n",
        "\n",
        "##Link Kaggle\n",
        "https://www.kaggle.com/datasets/rashikrahmanpritom/heart-attack-analysis-prediction-dataset/versions/2?resource=download&select=heart.csv\n",
        "\n"
      ]
    }
  ]
}