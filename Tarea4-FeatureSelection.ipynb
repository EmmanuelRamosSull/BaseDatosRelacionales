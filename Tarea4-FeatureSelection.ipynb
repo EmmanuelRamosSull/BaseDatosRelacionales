{
  "nbformat": 4,
  "nbformat_minor": 0,
  "metadata": {
    "colab": {
      "provenance": [],
      "authorship_tag": "ABX9TyMiXPMJ6268dNdUeFqaqol+",
      "include_colab_link": true
    },
    "kernelspec": {
      "name": "python3",
      "display_name": "Python 3"
    },
    "language_info": {
      "name": "python"
    }
  },
  "cells": [
    {
      "cell_type": "markdown",
      "metadata": {
        "id": "view-in-github",
        "colab_type": "text"
      },
      "source": [
        "<a href=\"https://colab.research.google.com/github/EmmanuelRamosSull/BaseDatosRelacionales/blob/main/Tarea4-FeatureSelection.ipynb\" target=\"_parent\"><img src=\"https://colab.research.google.com/assets/colab-badge.svg\" alt=\"Open In Colab\"/></a>"
      ]
    },
    {
      "cell_type": "code",
      "execution_count": 2,
      "metadata": {
        "colab": {
          "base_uri": "https://localhost:8080/",
          "height": 206
        },
        "id": "dhuciZ4bWRbw",
        "outputId": "7d90af7c-02f4-4970-999c-3b4c7869f597"
      },
      "outputs": [
        {
          "output_type": "display_data",
          "data": {
            "text/plain": [
              "<IPython.core.display.Markdown object>"
            ],
            "text/markdown": "|    |   age |   sex |   cp |   trtbps |   chol |   fbs |   restecg |   thalachh |   exng |   oldpeak |   slp |   caa |   thall |   output |\n|---:|------:|------:|-----:|---------:|-------:|------:|----------:|-----------:|-------:|----------:|------:|------:|--------:|---------:|\n|  0 |    63 |     1 |    3 |      145 |    233 |     1 |         0 |        150 |      0 |       2.3 |     0 |     0 |       1 |        1 |\n|  1 |    37 |     1 |    2 |      130 |    250 |     0 |         1 |        187 |      0 |       3.5 |     0 |     0 |       2 |        1 |\n|  2 |    41 |     0 |    1 |      130 |    204 |     0 |         0 |        172 |      0 |       1.4 |     2 |     0 |       2 |        1 |\n|  3 |    56 |     1 |    1 |      120 |    236 |     0 |         1 |        178 |      0 |       0.8 |     2 |     0 |       2 |        1 |\n|  4 |    57 |     0 |    0 |      120 |    354 |     0 |         1 |        163 |      1 |       0.6 |     2 |     0 |       2 |        1 |"
          },
          "metadata": {}
        }
      ],
      "source": [
        "import warnings\n",
        "warnings.filterwarnings('ignore')\n",
        "import sys\n",
        "\n",
        "sys.path.append('/content/HeartAttack.py')\n",
        "from HeartAttack import *\n",
        "\n",
        "heart_df = HeartAttackHelper.obtainHearthDF()\n",
        "\n",
        "display(Markdown(heart_df.head().to_markdown()))"
      ]
    },
    {
      "cell_type": "markdown",
      "source": [
        "# Selección de características\n",
        "\n",
        "Para esta sección se buscará realizar comparativas de diferentes tipos de modelos de selección de características a fin de encontrar el que tenga mejor desempeño y explique nuestras variables,  Para nuestros datos la variable de respuesta es la variable **output**. \n",
        "\n",
        "## Anova F-value\n",
        "\n",
        "\n",
        "\n",
        "\n",
        "\n"
      ],
      "metadata": {
        "id": "q8UfxxLIQMto"
      }
    },
    {
      "cell_type": "code",
      "source": [
        "from sklearn.feature_selection import f_classif\n",
        "\n",
        "\n",
        "##Dividimos el DF original en dos partes las variables predictivas y la de respuesta\n",
        "y = heart_df['output']\n",
        "columns_expect_output = [ i for i in heart_df.columns if i != 'output'];\n",
        "x = heart_df[columns_expect_output]\n",
        "f_value = f_classif(x , y)\n",
        "\n",
        "##Obtenemos el valor de f de cada una de las variables\n",
        "\n",
        "pass_test = []\n",
        "not_pass_test = []\n",
        "alpha = 0.05\n",
        "for i in range(len(f_value[1])):\n",
        "    print(x.columns[i], f_value[1][i])\n",
        "    if f_value[1][i] < alpha:\n",
        "        pass_test.append(x.columns[i])\n",
        "    else:\n",
        "        not_pass_test.append(x.columns[i])\n"
      ],
      "metadata": {
        "colab": {
          "base_uri": "https://localhost:8080/"
        },
        "id": "CPGO98zcYxcg",
        "outputId": "fc289150-08ae-499e-f782-0d4aa3cca2fb"
      },
      "execution_count": 3,
      "outputs": [
        {
          "output_type": "stream",
          "name": "stdout",
          "text": [
            "age 7.524801303436258e-05\n",
            "sex 6.67869211531398e-07\n",
            "cp 2.4697121089225036e-15\n",
            "trtbps 0.011546059200245085\n",
            "chol 0.13879032695589122\n",
            "fbs 0.6267775474340704\n",
            "restecg 0.016839897060127233\n",
            "thalachh 1.6973376386571653e-14\n",
            "exng 1.5208138383314494e-15\n",
            "oldpeak 4.085346391354478e-15\n",
            "slp 6.10161061956552e-10\n",
            "caa 1.4915387381121373e-12\n",
            "thall 7.624879909573069e-10\n"
          ]
        }
      ]
    },
    {
      "cell_type": "code",
      "source": [
        "# Se ordenan variables por su f-value\n",
        "df_results = pd.DataFrame(f_value[0], index=x.columns)\n",
        "df_results.columns = ['f_value']\n",
        "df_results.sort_values('f_value', inplace = True, ascending = False)\n",
        "df_results"
      ],
      "metadata": {
        "colab": {
          "base_uri": "https://localhost:8080/",
          "height": 457
        },
        "id": "C-swthfVb2O0",
        "outputId": "b2cecfbe-c3f4-409e-db48-3485223dbdf9"
      },
      "execution_count": 4,
      "outputs": [
        {
          "output_type": "execute_result",
          "data": {
            "text/plain": [
              "            f_value\n",
              "exng      70.952438\n",
              "cp        69.772271\n",
              "oldpeak   68.551439\n",
              "thalachh  65.120104\n",
              "caa       54.559834\n",
              "slp       40.902071\n",
              "thall     40.407696\n",
              "sex       25.792191\n",
              "age       16.116700\n",
              "trtbps     6.458169\n",
              "restecg    5.777209\n",
              "chol       2.202983\n",
              "fbs        0.236942"
            ],
            "text/html": [
              "\n",
              "  <div id=\"df-c7644a90-6aba-43a6-a01c-055725cafb6d\">\n",
              "    <div class=\"colab-df-container\">\n",
              "      <div>\n",
              "<style scoped>\n",
              "    .dataframe tbody tr th:only-of-type {\n",
              "        vertical-align: middle;\n",
              "    }\n",
              "\n",
              "    .dataframe tbody tr th {\n",
              "        vertical-align: top;\n",
              "    }\n",
              "\n",
              "    .dataframe thead th {\n",
              "        text-align: right;\n",
              "    }\n",
              "</style>\n",
              "<table border=\"1\" class=\"dataframe\">\n",
              "  <thead>\n",
              "    <tr style=\"text-align: right;\">\n",
              "      <th></th>\n",
              "      <th>f_value</th>\n",
              "    </tr>\n",
              "  </thead>\n",
              "  <tbody>\n",
              "    <tr>\n",
              "      <th>exng</th>\n",
              "      <td>70.952438</td>\n",
              "    </tr>\n",
              "    <tr>\n",
              "      <th>cp</th>\n",
              "      <td>69.772271</td>\n",
              "    </tr>\n",
              "    <tr>\n",
              "      <th>oldpeak</th>\n",
              "      <td>68.551439</td>\n",
              "    </tr>\n",
              "    <tr>\n",
              "      <th>thalachh</th>\n",
              "      <td>65.120104</td>\n",
              "    </tr>\n",
              "    <tr>\n",
              "      <th>caa</th>\n",
              "      <td>54.559834</td>\n",
              "    </tr>\n",
              "    <tr>\n",
              "      <th>slp</th>\n",
              "      <td>40.902071</td>\n",
              "    </tr>\n",
              "    <tr>\n",
              "      <th>thall</th>\n",
              "      <td>40.407696</td>\n",
              "    </tr>\n",
              "    <tr>\n",
              "      <th>sex</th>\n",
              "      <td>25.792191</td>\n",
              "    </tr>\n",
              "    <tr>\n",
              "      <th>age</th>\n",
              "      <td>16.116700</td>\n",
              "    </tr>\n",
              "    <tr>\n",
              "      <th>trtbps</th>\n",
              "      <td>6.458169</td>\n",
              "    </tr>\n",
              "    <tr>\n",
              "      <th>restecg</th>\n",
              "      <td>5.777209</td>\n",
              "    </tr>\n",
              "    <tr>\n",
              "      <th>chol</th>\n",
              "      <td>2.202983</td>\n",
              "    </tr>\n",
              "    <tr>\n",
              "      <th>fbs</th>\n",
              "      <td>0.236942</td>\n",
              "    </tr>\n",
              "  </tbody>\n",
              "</table>\n",
              "</div>\n",
              "      <button class=\"colab-df-convert\" onclick=\"convertToInteractive('df-c7644a90-6aba-43a6-a01c-055725cafb6d')\"\n",
              "              title=\"Convert this dataframe to an interactive table.\"\n",
              "              style=\"display:none;\">\n",
              "        \n",
              "  <svg xmlns=\"http://www.w3.org/2000/svg\" height=\"24px\"viewBox=\"0 0 24 24\"\n",
              "       width=\"24px\">\n",
              "    <path d=\"M0 0h24v24H0V0z\" fill=\"none\"/>\n",
              "    <path d=\"M18.56 5.44l.94 2.06.94-2.06 2.06-.94-2.06-.94-.94-2.06-.94 2.06-2.06.94zm-11 1L8.5 8.5l.94-2.06 2.06-.94-2.06-.94L8.5 2.5l-.94 2.06-2.06.94zm10 10l.94 2.06.94-2.06 2.06-.94-2.06-.94-.94-2.06-.94 2.06-2.06.94z\"/><path d=\"M17.41 7.96l-1.37-1.37c-.4-.4-.92-.59-1.43-.59-.52 0-1.04.2-1.43.59L10.3 9.45l-7.72 7.72c-.78.78-.78 2.05 0 2.83L4 21.41c.39.39.9.59 1.41.59.51 0 1.02-.2 1.41-.59l7.78-7.78 2.81-2.81c.8-.78.8-2.07 0-2.86zM5.41 20L4 18.59l7.72-7.72 1.47 1.35L5.41 20z\"/>\n",
              "  </svg>\n",
              "      </button>\n",
              "      \n",
              "  <style>\n",
              "    .colab-df-container {\n",
              "      display:flex;\n",
              "      flex-wrap:wrap;\n",
              "      gap: 12px;\n",
              "    }\n",
              "\n",
              "    .colab-df-convert {\n",
              "      background-color: #E8F0FE;\n",
              "      border: none;\n",
              "      border-radius: 50%;\n",
              "      cursor: pointer;\n",
              "      display: none;\n",
              "      fill: #1967D2;\n",
              "      height: 32px;\n",
              "      padding: 0 0 0 0;\n",
              "      width: 32px;\n",
              "    }\n",
              "\n",
              "    .colab-df-convert:hover {\n",
              "      background-color: #E2EBFA;\n",
              "      box-shadow: 0px 1px 2px rgba(60, 64, 67, 0.3), 0px 1px 3px 1px rgba(60, 64, 67, 0.15);\n",
              "      fill: #174EA6;\n",
              "    }\n",
              "\n",
              "    [theme=dark] .colab-df-convert {\n",
              "      background-color: #3B4455;\n",
              "      fill: #D2E3FC;\n",
              "    }\n",
              "\n",
              "    [theme=dark] .colab-df-convert:hover {\n",
              "      background-color: #434B5C;\n",
              "      box-shadow: 0px 1px 3px 1px rgba(0, 0, 0, 0.15);\n",
              "      filter: drop-shadow(0px 1px 2px rgba(0, 0, 0, 0.3));\n",
              "      fill: #FFFFFF;\n",
              "    }\n",
              "  </style>\n",
              "\n",
              "      <script>\n",
              "        const buttonEl =\n",
              "          document.querySelector('#df-c7644a90-6aba-43a6-a01c-055725cafb6d button.colab-df-convert');\n",
              "        buttonEl.style.display =\n",
              "          google.colab.kernel.accessAllowed ? 'block' : 'none';\n",
              "\n",
              "        async function convertToInteractive(key) {\n",
              "          const element = document.querySelector('#df-c7644a90-6aba-43a6-a01c-055725cafb6d');\n",
              "          const dataTable =\n",
              "            await google.colab.kernel.invokeFunction('convertToInteractive',\n",
              "                                                     [key], {});\n",
              "          if (!dataTable) return;\n",
              "\n",
              "          const docLinkHtml = 'Like what you see? Visit the ' +\n",
              "            '<a target=\"_blank\" href=https://colab.research.google.com/notebooks/data_table.ipynb>data table notebook</a>'\n",
              "            + ' to learn more about interactive tables.';\n",
              "          element.innerHTML = '';\n",
              "          dataTable['output_type'] = 'display_data';\n",
              "          await google.colab.output.renderOutput(dataTable, element);\n",
              "          const docLink = document.createElement('div');\n",
              "          docLink.innerHTML = docLinkHtml;\n",
              "          element.appendChild(docLink);\n",
              "        }\n",
              "      </script>\n",
              "    </div>\n",
              "  </div>\n",
              "  "
            ]
          },
          "metadata": {},
          "execution_count": 4
        }
      ]
    },
    {
      "cell_type": "markdown",
      "source": [
        "Resultados gráficos de cada una de las variables."
      ],
      "metadata": {
        "id": "vLDc8_OScFUX"
      }
    },
    {
      "cell_type": "code",
      "source": [
        "plt.figure(figsize=(10, 8), dpi=80)\n",
        "plt.bar(df_results.drop(not_pass_test).index, df_results.drop(not_pass_test).f_value, color= 'green')\n",
        "plt.show()"
      ],
      "metadata": {
        "colab": {
          "base_uri": "https://localhost:8080/",
          "height": 533
        },
        "id": "B3JqBoREckzc",
        "outputId": "e19bd507-c290-45bb-aba5-d94b659ee0e7"
      },
      "execution_count": 5,
      "outputs": [
        {
          "output_type": "display_data",
          "data": {
            "text/plain": [
              "<Figure size 800x640 with 1 Axes>"
            ],
            "image/png": "[encoded data removed]"
          },
          "metadata": {
            "needs_background": "light"
          }
        }
      ]
    },
    {
      "cell_type": "markdown",
      "source": [
        "De acuerdo con los estudios clínicos realizados la angina de pecho inducida por ejercicio es un problema muy común, link de estudio abajo sugiere que la angina de pecho inducida por ejercicio en un ambiente frio es mas frecuente en ambiente frios. \n",
        "Lo cual lo hace sentido como un buen indicador para nuestra variable de respuesta.\n",
        "La segunda variable \n",
        "Procederemos a analizar los siguientes metodos y ver si similtudes.\n",
        "\n",
        "[Exercising in the cold](https://pubmed.ncbi.nlm.nih.gov/4068968/#:~:text=Exercise%2Dinduced%20angina%20(AP),when%20exercising%20in%20the%20cold.)"
      ],
      "metadata": {
        "id": "89sbTDGJvUsM"
      }
    },
    {
      "cell_type": "markdown",
      "source": [
        "## Umbral de varianza\n",
        "\n",
        "Modelo el cual se encarga de descartar variables con una **varianza baja**."
      ],
      "metadata": {
        "id": "hg4OYJc3yFtz"
      }
    },
    {
      "cell_type": "code",
      "source": [
        "## Aplicamos transformacion de datos normalizando variables\n",
        "from sklearn.preprocessing import MinMaxScaler\n",
        "scaler = MinMaxScaler()\n",
        "scaled = scaler.fit_transform(x)\n",
        "x_scaled = pd.DataFrame(scaled, columns = x.columns)\n",
        "x_scaled"
      ],
      "metadata": {
        "colab": {
          "base_uri": "https://localhost:8080/",
          "height": 423
        },
        "id": "kX_s8j3cyg2F",
        "outputId": "cd4397b7-e36f-4bf0-da13-b44469515cc2"
      },
      "execution_count": 6,
      "outputs": [
        {
          "output_type": "execute_result",
          "data": {
            "text/plain": [
              "          age  sex        cp    trtbps      chol  fbs  restecg  thalachh  \\\n",
              "0    0.708333  1.0  1.000000  0.481132  0.244292  1.0      0.0  0.603053   \n",
              "1    0.166667  1.0  0.666667  0.339623  0.283105  0.0      0.5  0.885496   \n",
              "2    0.250000  0.0  0.333333  0.339623  0.178082  0.0      0.0  0.770992   \n",
              "3    0.562500  1.0  0.333333  0.245283  0.251142  0.0      0.5  0.816794   \n",
              "4    0.583333  0.0  0.000000  0.245283  0.520548  0.0      0.5  0.702290   \n",
              "..        ...  ...       ...       ...       ...  ...      ...       ...   \n",
              "298  0.583333  0.0  0.000000  0.433962  0.262557  0.0      0.5  0.396947   \n",
              "299  0.333333  1.0  1.000000  0.150943  0.315068  0.0      0.5  0.465649   \n",
              "300  0.812500  1.0  0.000000  0.471698  0.152968  1.0      0.5  0.534351   \n",
              "301  0.583333  1.0  0.000000  0.339623  0.011416  0.0      0.5  0.335878   \n",
              "302  0.583333  0.0  0.333333  0.339623  0.251142  0.0      0.0  0.786260   \n",
              "\n",
              "     exng   oldpeak  slp   caa     thall  \n",
              "0     0.0  0.370968  0.0  0.00  0.333333  \n",
              "1     0.0  0.564516  0.0  0.00  0.666667  \n",
              "2     0.0  0.225806  1.0  0.00  0.666667  \n",
              "3     0.0  0.129032  1.0  0.00  0.666667  \n",
              "4     1.0  0.096774  1.0  0.00  0.666667  \n",
              "..    ...       ...  ...   ...       ...  \n",
              "298   1.0  0.032258  0.5  0.00  1.000000  \n",
              "299   0.0  0.193548  0.5  0.00  1.000000  \n",
              "300   0.0  0.548387  0.5  0.50  1.000000  \n",
              "301   1.0  0.193548  0.5  0.25  1.000000  \n",
              "302   0.0  0.000000  0.5  0.25  0.666667  \n",
              "\n",
              "[303 rows x 13 columns]"
            ],
            "text/html": [
              "\n",
              "  <div id=\"df-03da9762-5bbd-444c-886a-253337342aca\">\n",
              "    <div class=\"colab-df-container\">\n",
              "      <div>\n",
              "<style scoped>\n",
              "    .dataframe tbody tr th:only-of-type {\n",
              "        vertical-align: middle;\n",
              "    }\n",
              "\n",
              "    .dataframe tbody tr th {\n",
              "        vertical-align: top;\n",
              "    }\n",
              "\n",
              "    .dataframe thead th {\n",
              "        text-align: right;\n",
              "    }\n",
              "</style>\n",
              "<table border=\"1\" class=\"dataframe\">\n",
              "  <thead>\n",
              "    <tr style=\"text-align: right;\">\n",
              "      <th></th>\n",
              "      <th>age</th>\n",
              "      <th>sex</th>\n",
              "      <th>cp</th>\n",
              "      <th>trtbps</th>\n",
              "      <th>chol</th>\n",
              "      <th>fbs</th>\n",
              "      <th>restecg</th>\n",
              "      <th>thalachh</th>\n",
              "      <th>exng</th>\n",
              "      <th>oldpeak</th>\n",
              "      <th>slp</th>\n",
              "      <th>caa</th>\n",
              "      <th>thall</th>\n",
              "    </tr>\n",
              "  </thead>\n",
              "  <tbody>\n",
              "    <tr>\n",
              "      <th>0</th>\n",
              "      <td>0.708333</td>\n",
              "      <td>1.0</td>\n",
              "      <td>1.000000</td>\n",
              "      <td>0.481132</td>\n",
              "      <td>0.244292</td>\n",
              "      <td>1.0</td>\n",
              "      <td>0.0</td>\n",
              "      <td>0.603053</td>\n",
              "      <td>0.0</td>\n",
              "      <td>0.370968</td>\n",
              "      <td>0.0</td>\n",
              "      <td>0.00</td>\n",
              "      <td>0.333333</td>\n",
              "    </tr>\n",
              "    <tr>\n",
              "      <th>1</th>\n",
              "      <td>0.166667</td>\n",
              "      <td>1.0</td>\n",
              "      <td>0.666667</td>\n",
              "      <td>0.339623</td>\n",
              "      <td>0.283105</td>\n",
              "      <td>0.0</td>\n",
              "      <td>0.5</td>\n",
              "      <td>0.885496</td>\n",
              "      <td>0.0</td>\n",
              "      <td>0.564516</td>\n",
              "      <td>0.0</td>\n",
              "      <td>0.00</td>\n",
              "      <td>0.666667</td>\n",
              "    </tr>\n",
              "    <tr>\n",
              "      <th>2</th>\n",
              "      <td>0.250000</td>\n",
              "      <td>0.0</td>\n",
              "      <td>0.333333</td>\n",
              "      <td>0.339623</td>\n",
              "      <td>0.178082</td>\n",
              "      <td>0.0</td>\n",
              "      <td>0.0</td>\n",
              "      <td>0.770992</td>\n",
              "      <td>0.0</td>\n",
              "      <td>0.225806</td>\n",
              "      <td>1.0</td>\n",
              "      <td>0.00</td>\n",
              "      <td>0.666667</td>\n",
              "    </tr>\n",
              "    <tr>\n",
              "      <th>3</th>\n",
              "      <td>0.562500</td>\n",
              "      <td>1.0</td>\n",
              "      <td>0.333333</td>\n",
              "      <td>0.245283</td>\n",
              "      <td>0.251142</td>\n",
              "      <td>0.0</td>\n",
              "      <td>0.5</td>\n",
              "      <td>0.816794</td>\n",
              "      <td>0.0</td>\n",
              "      <td>0.129032</td>\n",
              "      <td>1.0</td>\n",
              "      <td>0.00</td>\n",
              "      <td>0.666667</td>\n",
              "    </tr>\n",
              "    <tr>\n",
              "      <th>4</th>\n",
              "      <td>0.583333</td>\n",
              "      <td>0.0</td>\n",
              "      <td>0.000000</td>\n",
              "      <td>0.245283</td>\n",
              "      <td>0.520548</td>\n",
              "      <td>0.0</td>\n",
              "      <td>0.5</td>\n",
              "      <td>0.702290</td>\n",
              "      <td>1.0</td>\n",
              "      <td>0.096774</td>\n",
              "      <td>1.0</td>\n",
              "      <td>0.00</td>\n",
              "      <td>0.666667</td>\n",
              "    </tr>\n",
              "    <tr>\n",
              "      <th>...</th>\n",
              "      <td>...</td>\n",
              "      <td>...</td>\n",
              "      <td>...</td>\n",
              "      <td>...</td>\n",
              "      <td>...</td>\n",
              "      <td>...</td>\n",
              "      <td>...</td>\n",
              "      <td>...</td>\n",
              "      <td>...</td>\n",
              "      <td>...</td>\n",
              "      <td>...</td>\n",
              "      <td>...</td>\n",
              "      <td>...</td>\n",
              "    </tr>\n",
              "    <tr>\n",
              "      <th>298</th>\n",
              "      <td>0.583333</td>\n",
              "      <td>0.0</td>\n",
              "      <td>0.000000</td>\n",
              "      <td>0.433962</td>\n",
              "      <td>0.262557</td>\n",
              "      <td>0.0</td>\n",
              "      <td>0.5</td>\n",
              "      <td>0.396947</td>\n",
              "      <td>1.0</td>\n",
              "      <td>0.032258</td>\n",
              "      <td>0.5</td>\n",
              "      <td>0.00</td>\n",
              "      <td>1.000000</td>\n",
              "    </tr>\n",
              "    <tr>\n",
              "      <th>299</th>\n",
              "      <td>0.333333</td>\n",
              "      <td>1.0</td>\n",
              "      <td>1.000000</td>\n",
              "      <td>0.150943</td>\n",
              "      <td>0.315068</td>\n",
              "      <td>0.0</td>\n",
              "      <td>0.5</td>\n",
              "      <td>0.465649</td>\n",
              "      <td>0.0</td>\n",
              "      <td>0.193548</td>\n",
              "      <td>0.5</td>\n",
              "      <td>0.00</td>\n",
              "      <td>1.000000</td>\n",
              "    </tr>\n",
              "    <tr>\n",
              "      <th>300</th>\n",
              "      <td>0.812500</td>\n",
              "      <td>1.0</td>\n",
              "      <td>0.000000</td>\n",
              "      <td>0.471698</td>\n",
              "      <td>0.152968</td>\n",
              "      <td>1.0</td>\n",
              "      <td>0.5</td>\n",
              "      <td>0.534351</td>\n",
              "      <td>0.0</td>\n",
              "      <td>0.548387</td>\n",
              "      <td>0.5</td>\n",
              "      <td>0.50</td>\n",
              "      <td>1.000000</td>\n",
              "    </tr>\n",
              "    <tr>\n",
              "      <th>301</th>\n",
              "      <td>0.583333</td>\n",
              "      <td>1.0</td>\n",
              "      <td>0.000000</td>\n",
              "      <td>0.339623</td>\n",
              "      <td>0.011416</td>\n",
              "      <td>0.0</td>\n",
              "      <td>0.5</td>\n",
              "      <td>0.335878</td>\n",
              "      <td>1.0</td>\n",
              "      <td>0.193548</td>\n",
              "      <td>0.5</td>\n",
              "      <td>0.25</td>\n",
              "      <td>1.000000</td>\n",
              "    </tr>\n",
              "    <tr>\n",
              "      <th>302</th>\n",
              "      <td>0.583333</td>\n",
              "      <td>0.0</td>\n",
              "      <td>0.333333</td>\n",
              "      <td>0.339623</td>\n",
              "      <td>0.251142</td>\n",
              "      <td>0.0</td>\n",
              "      <td>0.0</td>\n",
              "      <td>0.786260</td>\n",
              "      <td>0.0</td>\n",
              "      <td>0.000000</td>\n",
              "      <td>0.5</td>\n",
              "      <td>0.25</td>\n",
              "      <td>0.666667</td>\n",
              "    </tr>\n",
              "  </tbody>\n",
              "</table>\n",
              "<p>303 rows × 13 columns</p>\n",
              "</div>\n",
              "      <button class=\"colab-df-convert\" onclick=\"convertToInteractive('df-03da9762-5bbd-444c-886a-253337342aca')\"\n",
              "              title=\"Convert this dataframe to an interactive table.\"\n",
              "              style=\"display:none;\">\n",
              "        \n",
              "  <svg xmlns=\"http://www.w3.org/2000/svg\" height=\"24px\"viewBox=\"0 0 24 24\"\n",
              "       width=\"24px\">\n",
              "    <path d=\"M0 0h24v24H0V0z\" fill=\"none\"/>\n",
              "    <path d=\"M18.56 5.44l.94 2.06.94-2.06 2.06-.94-2.06-.94-.94-2.06-.94 2.06-2.06.94zm-11 1L8.5 8.5l.94-2.06 2.06-.94-2.06-.94L8.5 2.5l-.94 2.06-2.06.94zm10 10l.94 2.06.94-2.06 2.06-.94-2.06-.94-.94-2.06-.94 2.06-2.06.94z\"/><path d=\"M17.41 7.96l-1.37-1.37c-.4-.4-.92-.59-1.43-.59-.52 0-1.04.2-1.43.59L10.3 9.45l-7.72 7.72c-.78.78-.78 2.05 0 2.83L4 21.41c.39.39.9.59 1.41.59.51 0 1.02-.2 1.41-.59l7.78-7.78 2.81-2.81c.8-.78.8-2.07 0-2.86zM5.41 20L4 18.59l7.72-7.72 1.47 1.35L5.41 20z\"/>\n",
              "  </svg>\n",
              "      </button>\n",
              "      \n",
              "  <style>\n",
              "    .colab-df-container {\n",
              "      display:flex;\n",
              "      flex-wrap:wrap;\n",
              "      gap: 12px;\n",
              "    }\n",
              "\n",
              "    .colab-df-convert {\n",
              "      background-color: #E8F0FE;\n",
              "      border: none;\n",
              "      border-radius: 50%;\n",
              "      cursor: pointer;\n",
              "      display: none;\n",
              "      fill: #1967D2;\n",
              "      height: 32px;\n",
              "      padding: 0 0 0 0;\n",
              "      width: 32px;\n",
              "    }\n",
              "\n",
              "    .colab-df-convert:hover {\n",
              "      background-color: #E2EBFA;\n",
              "      box-shadow: 0px 1px 2px rgba(60, 64, 67, 0.3), 0px 1px 3px 1px rgba(60, 64, 67, 0.15);\n",
              "      fill: #174EA6;\n",
              "    }\n",
              "\n",
              "    [theme=dark] .colab-df-convert {\n",
              "      background-color: #3B4455;\n",
              "      fill: #D2E3FC;\n",
              "    }\n",
              "\n",
              "    [theme=dark] .colab-df-convert:hover {\n",
              "      background-color: #434B5C;\n",
              "      box-shadow: 0px 1px 3px 1px rgba(0, 0, 0, 0.15);\n",
              "      filter: drop-shadow(0px 1px 2px rgba(0, 0, 0, 0.3));\n",
              "      fill: #FFFFFF;\n",
              "    }\n",
              "  </style>\n",
              "\n",
              "      <script>\n",
              "        const buttonEl =\n",
              "          document.querySelector('#df-03da9762-5bbd-444c-886a-253337342aca button.colab-df-convert');\n",
              "        buttonEl.style.display =\n",
              "          google.colab.kernel.accessAllowed ? 'block' : 'none';\n",
              "\n",
              "        async function convertToInteractive(key) {\n",
              "          const element = document.querySelector('#df-03da9762-5bbd-444c-886a-253337342aca');\n",
              "          const dataTable =\n",
              "            await google.colab.kernel.invokeFunction('convertToInteractive',\n",
              "                                                     [key], {});\n",
              "          if (!dataTable) return;\n",
              "\n",
              "          const docLinkHtml = 'Like what you see? Visit the ' +\n",
              "            '<a target=\"_blank\" href=https://colab.research.google.com/notebooks/data_table.ipynb>data table notebook</a>'\n",
              "            + ' to learn more about interactive tables.';\n",
              "          element.innerHTML = '';\n",
              "          dataTable['output_type'] = 'display_data';\n",
              "          await google.colab.output.renderOutput(dataTable, element);\n",
              "          const docLink = document.createElement('div');\n",
              "          docLink.innerHTML = docLinkHtml;\n",
              "          element.appendChild(docLink);\n",
              "        }\n",
              "      </script>\n",
              "    </div>\n",
              "  </div>\n",
              "  "
            ]
          },
          "metadata": {},
          "execution_count": 6
        }
      ]
    },
    {
      "cell_type": "code",
      "source": [
        "from sklearn.feature_selection import VarianceThreshold\n",
        "selector = VarianceThreshold()\n",
        "selector.fit_transform(x_scaled)\n",
        "selector.variances_"
      ],
      "metadata": {
        "colab": {
          "base_uri": "https://localhost:8080/"
        },
        "id": "OUj3cnMXyxEx",
        "outputId": "1b3984cf-c3f4-4fcf-fe0f-cddb7cd82e2d"
      },
      "execution_count": 7,
      "outputs": [
        {
          "output_type": "execute_result",
          "data": {
            "text/plain": [
              "array([0.03568244, 0.21644937, 0.11795745, 0.02728474, 0.01395697,\n",
              "       0.12645819, 0.06890392, 0.03047112, 0.21997843, 0.03495437,\n",
              "       0.09462035, 0.06514203, 0.04151614])"
            ]
          },
          "metadata": {},
          "execution_count": 7
        }
      ]
    },
    {
      "cell_type": "code",
      "source": [
        "df_results['variance'] = selector.variances_\n",
        "df_results.sort_values('variance', ascending = False, inplace = True)\n",
        "df_results"
      ],
      "metadata": {
        "colab": {
          "base_uri": "https://localhost:8080/",
          "height": 457
        },
        "id": "Bb7-A3pFzCa1",
        "outputId": "5181b8e9-9c38-484c-be2b-370dc5ced9ac"
      },
      "execution_count": 8,
      "outputs": [
        {
          "output_type": "execute_result",
          "data": {
            "text/plain": [
              "            f_value  variance\n",
              "age       16.116700  0.219978\n",
              "cp        69.772271  0.216449\n",
              "slp       40.902071  0.126458\n",
              "oldpeak   68.551439  0.117957\n",
              "restecg    5.777209  0.094620\n",
              "thall     40.407696  0.068904\n",
              "chol       2.202983  0.065142\n",
              "fbs        0.236942  0.041516\n",
              "exng      70.952438  0.035682\n",
              "trtbps     6.458169  0.034954\n",
              "sex       25.792191  0.030471\n",
              "thalachh  65.120104  0.027285\n",
              "caa       54.559834  0.013957"
            ],
            "text/html": [
              "\n",
              "  <div id=\"df-dfe9e076-fd40-4ee9-9d52-0eecdcd2901b\">\n",
              "    <div class=\"colab-df-container\">\n",
              "      <div>\n",
              "<style scoped>\n",
              "    .dataframe tbody tr th:only-of-type {\n",
              "        vertical-align: middle;\n",
              "    }\n",
              "\n",
              "    .dataframe tbody tr th {\n",
              "        vertical-align: top;\n",
              "    }\n",
              "\n",
              "    .dataframe thead th {\n",
              "        text-align: right;\n",
              "    }\n",
              "</style>\n",
              "<table border=\"1\" class=\"dataframe\">\n",
              "  <thead>\n",
              "    <tr style=\"text-align: right;\">\n",
              "      <th></th>\n",
              "      <th>f_value</th>\n",
              "      <th>variance</th>\n",
              "    </tr>\n",
              "  </thead>\n",
              "  <tbody>\n",
              "    <tr>\n",
              "      <th>age</th>\n",
              "      <td>16.116700</td>\n",
              "      <td>0.219978</td>\n",
              "    </tr>\n",
              "    <tr>\n",
              "      <th>cp</th>\n",
              "      <td>69.772271</td>\n",
              "      <td>0.216449</td>\n",
              "    </tr>\n",
              "    <tr>\n",
              "      <th>slp</th>\n",
              "      <td>40.902071</td>\n",
              "      <td>0.126458</td>\n",
              "    </tr>\n",
              "    <tr>\n",
              "      <th>oldpeak</th>\n",
              "      <td>68.551439</td>\n",
              "      <td>0.117957</td>\n",
              "    </tr>\n",
              "    <tr>\n",
              "      <th>restecg</th>\n",
              "      <td>5.777209</td>\n",
              "      <td>0.094620</td>\n",
              "    </tr>\n",
              "    <tr>\n",
              "      <th>thall</th>\n",
              "      <td>40.407696</td>\n",
              "      <td>0.068904</td>\n",
              "    </tr>\n",
              "    <tr>\n",
              "      <th>chol</th>\n",
              "      <td>2.202983</td>\n",
              "      <td>0.065142</td>\n",
              "    </tr>\n",
              "    <tr>\n",
              "      <th>fbs</th>\n",
              "      <td>0.236942</td>\n",
              "      <td>0.041516</td>\n",
              "    </tr>\n",
              "    <tr>\n",
              "      <th>exng</th>\n",
              "      <td>70.952438</td>\n",
              "      <td>0.035682</td>\n",
              "    </tr>\n",
              "    <tr>\n",
              "      <th>trtbps</th>\n",
              "      <td>6.458169</td>\n",
              "      <td>0.034954</td>\n",
              "    </tr>\n",
              "    <tr>\n",
              "      <th>sex</th>\n",
              "      <td>25.792191</td>\n",
              "      <td>0.030471</td>\n",
              "    </tr>\n",
              "    <tr>\n",
              "      <th>thalachh</th>\n",
              "      <td>65.120104</td>\n",
              "      <td>0.027285</td>\n",
              "    </tr>\n",
              "    <tr>\n",
              "      <th>caa</th>\n",
              "      <td>54.559834</td>\n",
              "      <td>0.013957</td>\n",
              "    </tr>\n",
              "  </tbody>\n",
              "</table>\n",
              "</div>\n",
              "      <button class=\"colab-df-convert\" onclick=\"convertToInteractive('df-dfe9e076-fd40-4ee9-9d52-0eecdcd2901b')\"\n",
              "              title=\"Convert this dataframe to an interactive table.\"\n",
              "              style=\"display:none;\">\n",
              "        \n",
              "  <svg xmlns=\"http://www.w3.org/2000/svg\" height=\"24px\"viewBox=\"0 0 24 24\"\n",
              "       width=\"24px\">\n",
              "    <path d=\"M0 0h24v24H0V0z\" fill=\"none\"/>\n",
              "    <path d=\"M18.56 5.44l.94 2.06.94-2.06 2.06-.94-2.06-.94-.94-2.06-.94 2.06-2.06.94zm-11 1L8.5 8.5l.94-2.06 2.06-.94-2.06-.94L8.5 2.5l-.94 2.06-2.06.94zm10 10l.94 2.06.94-2.06 2.06-.94-2.06-.94-.94-2.06-.94 2.06-2.06.94z\"/><path d=\"M17.41 7.96l-1.37-1.37c-.4-.4-.92-.59-1.43-.59-.52 0-1.04.2-1.43.59L10.3 9.45l-7.72 7.72c-.78.78-.78 2.05 0 2.83L4 21.41c.39.39.9.59 1.41.59.51 0 1.02-.2 1.41-.59l7.78-7.78 2.81-2.81c.8-.78.8-2.07 0-2.86zM5.41 20L4 18.59l7.72-7.72 1.47 1.35L5.41 20z\"/>\n",
              "  </svg>\n",
              "      </button>\n",
              "      \n",
              "  <style>\n",
              "    .colab-df-container {\n",
              "      display:flex;\n",
              "      flex-wrap:wrap;\n",
              "      gap: 12px;\n",
              "    }\n",
              "\n",
              "    .colab-df-convert {\n",
              "      background-color: #E8F0FE;\n",
              "      border: none;\n",
              "      border-radius: 50%;\n",
              "      cursor: pointer;\n",
              "      display: none;\n",
              "      fill: #1967D2;\n",
              "      height: 32px;\n",
              "      padding: 0 0 0 0;\n",
              "      width: 32px;\n",
              "    }\n",
              "\n",
              "    .colab-df-convert:hover {\n",
              "      background-color: #E2EBFA;\n",
              "      box-shadow: 0px 1px 2px rgba(60, 64, 67, 0.3), 0px 1px 3px 1px rgba(60, 64, 67, 0.15);\n",
              "      fill: #174EA6;\n",
              "    }\n",
              "\n",
              "    [theme=dark] .colab-df-convert {\n",
              "      background-color: #3B4455;\n",
              "      fill: #D2E3FC;\n",
              "    }\n",
              "\n",
              "    [theme=dark] .colab-df-convert:hover {\n",
              "      background-color: #434B5C;\n",
              "      box-shadow: 0px 1px 3px 1px rgba(0, 0, 0, 0.15);\n",
              "      filter: drop-shadow(0px 1px 2px rgba(0, 0, 0, 0.3));\n",
              "      fill: #FFFFFF;\n",
              "    }\n",
              "  </style>\n",
              "\n",
              "      <script>\n",
              "        const buttonEl =\n",
              "          document.querySelector('#df-dfe9e076-fd40-4ee9-9d52-0eecdcd2901b button.colab-df-convert');\n",
              "        buttonEl.style.display =\n",
              "          google.colab.kernel.accessAllowed ? 'block' : 'none';\n",
              "\n",
              "        async function convertToInteractive(key) {\n",
              "          const element = document.querySelector('#df-dfe9e076-fd40-4ee9-9d52-0eecdcd2901b');\n",
              "          const dataTable =\n",
              "            await google.colab.kernel.invokeFunction('convertToInteractive',\n",
              "                                                     [key], {});\n",
              "          if (!dataTable) return;\n",
              "\n",
              "          const docLinkHtml = 'Like what you see? Visit the ' +\n",
              "            '<a target=\"_blank\" href=https://colab.research.google.com/notebooks/data_table.ipynb>data table notebook</a>'\n",
              "            + ' to learn more about interactive tables.';\n",
              "          element.innerHTML = '';\n",
              "          dataTable['output_type'] = 'display_data';\n",
              "          await google.colab.output.renderOutput(dataTable, element);\n",
              "          const docLink = document.createElement('div');\n",
              "          docLink.innerHTML = docLinkHtml;\n",
              "          element.appendChild(docLink);\n",
              "        }\n",
              "      </script>\n",
              "    </div>\n",
              "  </div>\n",
              "  "
            ]
          },
          "metadata": {},
          "execution_count": 8
        }
      ]
    },
    {
      "cell_type": "code",
      "source": [
        "plt.figure(figsize=(10, 8), dpi=80)\n",
        "plt.bar(df_results.index, df_results.variance, color='green')\n",
        "plt.show()"
      ],
      "metadata": {
        "colab": {
          "base_uri": "https://localhost:8080/",
          "height": 533
        },
        "id": "iomCtqwuzWov",
        "outputId": "1258972b-9336-47cf-cbad-f06313e83343"
      },
      "execution_count": 9,
      "outputs": [
        {
          "output_type": "display_data",
          "data": {
            "text/plain": [
              "<Figure size 800x640 with 1 Axes>"
            ],
            "image/png": "[encoded data removed]"
          },
          "metadata": {
            "needs_background": "light"
          }
        }
      ]
    },
    {
      "cell_type": "markdown",
      "source": [
        "En la grafica anterior el umbral de varianza nos arroja la edad como primera que captura una mayor varianza, **se realizó una búsqueda sobre un estudio clínico y _actualmente no existe diferencia alguna en la angina de pecho para un hombre como para la mujer, solo se encontró que el dolor suele ser un poco diferente ya sea hombre o mujer_**\n",
        "\n",
        "[Angina in woman can be different](https://www.heart.org/en/health-topics/heart-attack/angina-chest-pain/angina-in-women-can-be-different-than-men)"
      ],
      "metadata": {
        "id": "lGfxf_h-zjr9"
      }
    },
    {
      "cell_type": "markdown",
      "source": [
        "## RFE - Eliminación de características recursivo\n",
        "\n",
        "\n",
        "Recursive Feature Elimination or RFE, es un método para seleccionar características al recursivamente considerar pequeños conjuntos de características."
      ],
      "metadata": {
        "id": "omYCousP3_IA"
      }
    },
    {
      "cell_type": "code",
      "source": [
        "from sklearn.feature_selection import RFE\n",
        "from sklearn.linear_model import LogisticRegression\n",
        "\n",
        "\n",
        "#Selecting the Best important features according to Logistic Regression\n",
        "rfe_selector = RFE(estimator=LogisticRegression(),n_features_to_select = 4, step = 1)\n",
        "rfe_selector.fit(x, y)\n",
        "x.columns[rfe_selector.get_support()]"
      ],
      "metadata": {
        "colab": {
          "base_uri": "https://localhost:8080/"
        },
        "id": "oD-igmf50gSc",
        "outputId": "99718a35-37db-4687-fdfd-645d1073c759"
      },
      "execution_count": 34,
      "outputs": [
        {
          "output_type": "execute_result",
          "data": {
            "text/plain": [
              "Index(['sex', 'exng', 'slp', 'thall'], dtype='object')"
            ]
          },
          "metadata": {},
          "execution_count": 34
        }
      ]
    },
    {
      "cell_type": "markdown",
      "source": [
        "Las 4 características que arrojo este método fueron **sex, exng slp thall**\n",
        "\n",
        "Las primeras dos variables ya se habían analizados en los métodos anteriores, solo slp y thall no se revisaron. La variable slp o ‘slope’ tiene una relación a pruebas de ejercicio con electrocardiogramas en caso de que surja una anomalía o el paciente indique algún tipo de fatiga la prueba se detiene, con respecto a thall o ‘thallasemia’ este es un desorden crónico a nivel hemoglobina que causa que tu cuerpo tenga menos hemoglobina de la normal, hemoglobina habilita a los glóbulos rojos a llevar oxígeno, la talasemia puede producir anemia o fatiga, existen estudios de **cardiopatías de β-Thalassemia**, con respecto al método ejecutado tiene mucho sentido que estas 2 variables este muy relacionadas con nuestra variable de respuesta.\n",
        "\n",
        "\n",
        "[Thalassemia](https://www.mayoclinic.org/diseases-conditions/thalassemia/symptoms-causes/syc-20354995#:~:text=Anemia%20can%20both%20slow%20a,be%20associated%20with%20severe%20thalassemia.)\n",
        "\n",
        "[β-Thalassemia Cardiomyopathy](https://www.ahajournals.org/doi/full/10.1161/CIRCHEARTFAILURE.109.913863#:~:text=The%20%CE%B2%2Dthalassemia%20cardiomyopathy%20is,hypertension%2C%20and%20right%20heart%20failure.)\n",
        "\n",
        "[Exercise tolerance testing 'slope'](https://www.ncbi.nlm.nih.gov/pmc/articles/PMC1123032/)\n"
      ],
      "metadata": {
        "id": "19861gtr5T-j"
      }
    },
    {
      "cell_type": "markdown",
      "source": [
        "## Información mutua\n",
        "\n",
        "Para el modelo de informacion mutua este modelo medira la dependencia entre variables, un valor 0 indica independencia de variables.\n",
        "\n",
        "\n"
      ],
      "metadata": {
        "id": "vH6kaWKQ7cYs"
      }
    },
    {
      "cell_type": "code",
      "source": [
        "from sklearn.feature_selection import mutual_info_regression\n",
        "mi = mutual_info_regression(x, y, random_state=0)\n",
        "mi\n",
        "df_results['mi'] = mi\n",
        "df_results.sort_values('mi', ascending = False, inplace = True)\n",
        "plt.figure(figsize=(10, 8), dpi=80)\n",
        "plt.bar(df_results.index, df_results.mi, color='green')\n",
        "plt.show()"
      ],
      "metadata": {
        "colab": {
          "base_uri": "https://localhost:8080/",
          "height": 533
        },
        "id": "-9Tu_-TJcPRn",
        "outputId": "97dd3017-cda7-49b2-8572-86b4bc770a2d"
      },
      "execution_count": 12,
      "outputs": [
        {
          "output_type": "display_data",
          "data": {
            "text/plain": [
              "<Figure size 800x640 with 1 Axes>"
            ],
            "image/png": "[encoded data removed]"
          },
          "metadata": {
            "needs_background": "light"
          }
        }
      ]
    },
    {
      "cell_type": "markdown",
      "source": [
        "La variable diferente en este modelo mostrada aquí en las principales es ‘oldpeak’ esta variable está relacionada a el **ST-segmento** en un electrocardiograma el cual detecta anomalías dentro del electrocardiograma. \n",
        "\n",
        "[ST Segment](https://www.ncbi.nlm.nih.gov/books/NBK459364/#:~:text=ST%20depression%20occurs%20when%20the,and%20medications%20such%20as%20digitalis.)"
      ],
      "metadata": {
        "id": "W4vLnC9Sla1U"
      }
    },
    {
      "cell_type": "markdown",
      "source": [
        "## Selección de características exhaustiva\n",
        "\n",
        "Este modelo de Selección de características exhaustiva o EFS evalúa todas las combinaciones de características y devuelve los valores que optimizan el modelo.\n",
        "Para este modelo se usará KNeighbors para clasificación.\n",
        "\n",
        "\n"
      ],
      "metadata": {
        "id": "xiJQ4DqbllJf"
      }
    },
    {
      "cell_type": "code",
      "source": [
        "!pip install mlxtend"
      ],
      "metadata": {
        "colab": {
          "base_uri": "https://localhost:8080/"
        },
        "id": "uoXXswNvoBY9",
        "outputId": "22d20e06-5a77-4ef4-9af1-fdf88034e1ff"
      },
      "execution_count": 25,
      "outputs": [
        {
          "output_type": "stream",
          "name": "stdout",
          "text": [
            "Looking in indexes: https://pypi.org/simple, https://us-python.pkg.dev/colab-wheels/public/simple/\n",
            "Requirement already satisfied: mlxtend in /usr/local/lib/python3.8/dist-packages (0.14.0)\n",
            "Requirement already satisfied: setuptools in /usr/local/lib/python3.8/dist-packages (from mlxtend) (57.4.0)\n",
            "Requirement already satisfied: scikit-learn>=0.18 in /usr/local/lib/python3.8/dist-packages (from mlxtend) (1.0.2)\n",
            "Requirement already satisfied: matplotlib>=1.5.1 in /usr/local/lib/python3.8/dist-packages (from mlxtend) (3.2.2)\n",
            "Requirement already satisfied: pandas>=0.17.1 in /usr/local/lib/python3.8/dist-packages (from mlxtend) (1.3.5)\n",
            "Requirement already satisfied: numpy>=1.10.4 in /usr/local/lib/python3.8/dist-packages (from mlxtend) (1.21.6)\n",
            "Requirement already satisfied: scipy>=0.17 in /usr/local/lib/python3.8/dist-packages (from mlxtend) (1.7.3)\n",
            "Requirement already satisfied: cycler>=0.10 in /usr/local/lib/python3.8/dist-packages (from matplotlib>=1.5.1->mlxtend) (0.11.0)\n",
            "Requirement already satisfied: pyparsing!=2.0.4,!=2.1.2,!=2.1.6,>=2.0.1 in /usr/local/lib/python3.8/dist-packages (from matplotlib>=1.5.1->mlxtend) (3.0.9)\n",
            "Requirement already satisfied: kiwisolver>=1.0.1 in /usr/local/lib/python3.8/dist-packages (from matplotlib>=1.5.1->mlxtend) (1.4.4)\n",
            "Requirement already satisfied: python-dateutil>=2.1 in /usr/local/lib/python3.8/dist-packages (from matplotlib>=1.5.1->mlxtend) (2.8.2)\n",
            "Requirement already satisfied: pytz>=2017.3 in /usr/local/lib/python3.8/dist-packages (from pandas>=0.17.1->mlxtend) (2022.7.1)\n",
            "Requirement already satisfied: joblib>=0.11 in /usr/local/lib/python3.8/dist-packages (from scikit-learn>=0.18->mlxtend) (1.2.0)\n",
            "Requirement already satisfied: threadpoolctl>=2.0.0 in /usr/local/lib/python3.8/dist-packages (from scikit-learn>=0.18->mlxtend) (3.1.0)\n",
            "Requirement already satisfied: six>=1.5 in /usr/local/lib/python3.8/dist-packages (from python-dateutil>=2.1->matplotlib>=1.5.1->mlxtend) (1.15.0)\n"
          ]
        }
      ]
    },
    {
      "cell_type": "code",
      "source": [
        "!pip install mlxtend\n",
        "import joblib\n",
        "import sys\n",
        "sys.modules['sklearn.externals.joblib'] = joblib\n",
        "import mlxtend\n",
        "from sklearn.neighbors import KNeighborsClassifier\n",
        "from sklearn.datasets import load_iris\n",
        "from mlxtend.feature_selection import ExhaustiveFeatureSelector as EFS\n",
        "\n",
        "knn = KNeighborsClassifier(n_neighbors=3)\n",
        "\n",
        "efs1 = EFS(knn, \n",
        "           min_features=1,\n",
        "           max_features=4,\n",
        "           scoring='accuracy',\n",
        "           print_progress=True,\n",
        "           cv=5)\n",
        "\n",
        "efs1 = efs1.fit(x, y)"
      ],
      "metadata": {
        "colab": {
          "base_uri": "https://localhost:8080/"
        },
        "id": "et7IeNZZm4Uc",
        "outputId": "4239209a-775e-4460-8c00-f28ea2b89b7f"
      },
      "execution_count": 27,
      "outputs": [
        {
          "output_type": "stream",
          "name": "stdout",
          "text": [
            "Looking in indexes: https://pypi.org/simple, https://us-python.pkg.dev/colab-wheels/public/simple/\n",
            "Requirement already satisfied: mlxtend in /usr/local/lib/python3.8/dist-packages (0.14.0)\n",
            "Requirement already satisfied: numpy>=1.10.4 in /usr/local/lib/python3.8/dist-packages (from mlxtend) (1.21.6)\n",
            "Requirement already satisfied: matplotlib>=1.5.1 in /usr/local/lib/python3.8/dist-packages (from mlxtend) (3.2.2)\n",
            "Requirement already satisfied: scikit-learn>=0.18 in /usr/local/lib/python3.8/dist-packages (from mlxtend) (1.0.2)\n",
            "Requirement already satisfied: pandas>=0.17.1 in /usr/local/lib/python3.8/dist-packages (from mlxtend) (1.3.5)\n",
            "Requirement already satisfied: setuptools in /usr/local/lib/python3.8/dist-packages (from mlxtend) (57.4.0)\n",
            "Requirement already satisfied: scipy>=0.17 in /usr/local/lib/python3.8/dist-packages (from mlxtend) (1.7.3)\n",
            "Requirement already satisfied: pyparsing!=2.0.4,!=2.1.2,!=2.1.6,>=2.0.1 in /usr/local/lib/python3.8/dist-packages (from matplotlib>=1.5.1->mlxtend) (3.0.9)\n",
            "Requirement already satisfied: python-dateutil>=2.1 in /usr/local/lib/python3.8/dist-packages (from matplotlib>=1.5.1->mlxtend) (2.8.2)\n",
            "Requirement already satisfied: kiwisolver>=1.0.1 in /usr/local/lib/python3.8/dist-packages (from matplotlib>=1.5.1->mlxtend) (1.4.4)\n",
            "Requirement already satisfied: cycler>=0.10 in /usr/local/lib/python3.8/dist-packages (from matplotlib>=1.5.1->mlxtend) (0.11.0)\n",
            "Requirement already satisfied: pytz>=2017.3 in /usr/local/lib/python3.8/dist-packages (from pandas>=0.17.1->mlxtend) (2022.7.1)\n",
            "Requirement already satisfied: threadpoolctl>=2.0.0 in /usr/local/lib/python3.8/dist-packages (from scikit-learn>=0.18->mlxtend) (3.1.0)\n",
            "Requirement already satisfied: joblib>=0.11 in /usr/local/lib/python3.8/dist-packages (from scikit-learn>=0.18->mlxtend) (1.2.0)\n",
            "Requirement already satisfied: six>=1.5 in /usr/local/lib/python3.8/dist-packages (from python-dateutil>=2.1->matplotlib>=1.5.1->mlxtend) (1.15.0)\n"
          ]
        },
        {
          "output_type": "stream",
          "name": "stderr",
          "text": [
            "Features: 1092/1092"
          ]
        }
      ]
    },
    {
      "cell_type": "code",
      "source": [
        "metric_dict = efs1.get_metric_dict()\n",
        "df_efs = pd.DataFrame(metric_dict).T\n",
        "df_efs.sort_values('avg_score', ascending=False,  inplace = True)\n",
        "df_efs_best_10 = df_efs.iloc[:10]\n",
        "df_efs_best_10"
      ],
      "metadata": {
        "colab": {
          "base_uri": "https://localhost:8080/",
          "height": 363
        },
        "id": "yTIFuniuw3Nv",
        "outputId": "32efee6f-686f-469c-ad7c-ea3fa48a4e21"
      },
      "execution_count": 28,
      "outputs": [
        {
          "output_type": "execute_result",
          "data": {
            "text/plain": [
              "          feature_idx                                          cv_scores  \\\n",
              "881   (2, 10, 11, 12)  [0.8688524590163934, 0.8852459016393442, 0.819...   \n",
              "1090  (8, 10, 11, 12)  [0.8688524590163934, 0.8524590163934426, 0.836...   \n",
              "1091  (9, 10, 11, 12)  [0.819672131147541, 0.8852459016393442, 0.7868...   \n",
              "878    (2, 9, 10, 11)  [0.8032786885245902, 0.8360655737704918, 0.786...   \n",
              "256       (2, 11, 12)  [0.8524590163934426, 0.9016393442622951, 0.737...   \n",
              "873     (2, 8, 9, 11)  [0.7704918032786885, 0.8032786885245902, 0.803...   \n",
              "880    (2, 9, 11, 12)  [0.819672131147541, 0.8524590163934426, 0.7540...   \n",
              "1089   (8, 9, 11, 12)  [0.7868852459016393, 0.8360655737704918, 0.770...   \n",
              "375       (9, 11, 12)  [0.8032786885245902, 0.8524590163934426, 0.770...   \n",
              "877    (2, 8, 11, 12)  [0.7868852459016393, 0.8688524590163934, 0.786...   \n",
              "\n",
              "     avg_score                feature_names  ci_bound   std_dev   std_err  \n",
              "881   0.828087        (cp, slp, caa, thall)  0.068025  0.052926  0.026463  \n",
              "1090  0.811475      (exng, slp, caa, thall)  0.067255  0.052327  0.026163  \n",
              "1091  0.805027   (oldpeak, slp, caa, thall)  0.058836  0.045776  0.022888  \n",
              "878   0.798579      (cp, oldpeak, slp, caa)   0.07252  0.056423  0.028212  \n",
              "256   0.798361             (cp, caa, thall)  0.089366   0.06953  0.034765  \n",
              "873    0.79541     (cp, exng, oldpeak, caa)  0.031531  0.024532  0.012266  \n",
              "880   0.795246    (cp, oldpeak, caa, thall)  0.057062  0.044396  0.022198  \n",
              "1089  0.792022  (exng, oldpeak, caa, thall)  0.039836  0.030993  0.015497  \n",
              "375   0.791913        (oldpeak, caa, thall)  0.050605  0.039372  0.019686  \n",
              "877   0.791858       (cp, exng, caa, thall)  0.055952  0.043533  0.021766  "
            ],
            "text/html": [
              "\n",
              "  <div id=\"df-58a6a6cc-f735-45d2-9a02-9bfe1cd1beb0\">\n",
              "    <div class=\"colab-df-container\">\n",
              "      <div>\n",
              "<style scoped>\n",
              "    .dataframe tbody tr th:only-of-type {\n",
              "        vertical-align: middle;\n",
              "    }\n",
              "\n",
              "    .dataframe tbody tr th {\n",
              "        vertical-align: top;\n",
              "    }\n",
              "\n",
              "    .dataframe thead th {\n",
              "        text-align: right;\n",
              "    }\n",
              "</style>\n",
              "<table border=\"1\" class=\"dataframe\">\n",
              "  <thead>\n",
              "    <tr style=\"text-align: right;\">\n",
              "      <th></th>\n",
              "      <th>feature_idx</th>\n",
              "      <th>cv_scores</th>\n",
              "      <th>avg_score</th>\n",
              "      <th>feature_names</th>\n",
              "      <th>ci_bound</th>\n",
              "      <th>std_dev</th>\n",
              "      <th>std_err</th>\n",
              "    </tr>\n",
              "  </thead>\n",
              "  <tbody>\n",
              "    <tr>\n",
              "      <th>881</th>\n",
              "      <td>(2, 10, 11, 12)</td>\n",
              "      <td>[0.8688524590163934, 0.8852459016393442, 0.819...</td>\n",
              "      <td>0.828087</td>\n",
              "      <td>(cp, slp, caa, thall)</td>\n",
              "      <td>0.068025</td>\n",
              "      <td>0.052926</td>\n",
              "      <td>0.026463</td>\n",
              "    </tr>\n",
              "    <tr>\n",
              "      <th>1090</th>\n",
              "      <td>(8, 10, 11, 12)</td>\n",
              "      <td>[0.8688524590163934, 0.8524590163934426, 0.836...</td>\n",
              "      <td>0.811475</td>\n",
              "      <td>(exng, slp, caa, thall)</td>\n",
              "      <td>0.067255</td>\n",
              "      <td>0.052327</td>\n",
              "      <td>0.026163</td>\n",
              "    </tr>\n",
              "    <tr>\n",
              "      <th>1091</th>\n",
              "      <td>(9, 10, 11, 12)</td>\n",
              "      <td>[0.819672131147541, 0.8852459016393442, 0.7868...</td>\n",
              "      <td>0.805027</td>\n",
              "      <td>(oldpeak, slp, caa, thall)</td>\n",
              "      <td>0.058836</td>\n",
              "      <td>0.045776</td>\n",
              "      <td>0.022888</td>\n",
              "    </tr>\n",
              "    <tr>\n",
              "      <th>878</th>\n",
              "      <td>(2, 9, 10, 11)</td>\n",
              "      <td>[0.8032786885245902, 0.8360655737704918, 0.786...</td>\n",
              "      <td>0.798579</td>\n",
              "      <td>(cp, oldpeak, slp, caa)</td>\n",
              "      <td>0.07252</td>\n",
              "      <td>0.056423</td>\n",
              "      <td>0.028212</td>\n",
              "    </tr>\n",
              "    <tr>\n",
              "      <th>256</th>\n",
              "      <td>(2, 11, 12)</td>\n",
              "      <td>[0.8524590163934426, 0.9016393442622951, 0.737...</td>\n",
              "      <td>0.798361</td>\n",
              "      <td>(cp, caa, thall)</td>\n",
              "      <td>0.089366</td>\n",
              "      <td>0.06953</td>\n",
              "      <td>0.034765</td>\n",
              "    </tr>\n",
              "    <tr>\n",
              "      <th>873</th>\n",
              "      <td>(2, 8, 9, 11)</td>\n",
              "      <td>[0.7704918032786885, 0.8032786885245902, 0.803...</td>\n",
              "      <td>0.79541</td>\n",
              "      <td>(cp, exng, oldpeak, caa)</td>\n",
              "      <td>0.031531</td>\n",
              "      <td>0.024532</td>\n",
              "      <td>0.012266</td>\n",
              "    </tr>\n",
              "    <tr>\n",
              "      <th>880</th>\n",
              "      <td>(2, 9, 11, 12)</td>\n",
              "      <td>[0.819672131147541, 0.8524590163934426, 0.7540...</td>\n",
              "      <td>0.795246</td>\n",
              "      <td>(cp, oldpeak, caa, thall)</td>\n",
              "      <td>0.057062</td>\n",
              "      <td>0.044396</td>\n",
              "      <td>0.022198</td>\n",
              "    </tr>\n",
              "    <tr>\n",
              "      <th>1089</th>\n",
              "      <td>(8, 9, 11, 12)</td>\n",
              "      <td>[0.7868852459016393, 0.8360655737704918, 0.770...</td>\n",
              "      <td>0.792022</td>\n",
              "      <td>(exng, oldpeak, caa, thall)</td>\n",
              "      <td>0.039836</td>\n",
              "      <td>0.030993</td>\n",
              "      <td>0.015497</td>\n",
              "    </tr>\n",
              "    <tr>\n",
              "      <th>375</th>\n",
              "      <td>(9, 11, 12)</td>\n",
              "      <td>[0.8032786885245902, 0.8524590163934426, 0.770...</td>\n",
              "      <td>0.791913</td>\n",
              "      <td>(oldpeak, caa, thall)</td>\n",
              "      <td>0.050605</td>\n",
              "      <td>0.039372</td>\n",
              "      <td>0.019686</td>\n",
              "    </tr>\n",
              "    <tr>\n",
              "      <th>877</th>\n",
              "      <td>(2, 8, 11, 12)</td>\n",
              "      <td>[0.7868852459016393, 0.8688524590163934, 0.786...</td>\n",
              "      <td>0.791858</td>\n",
              "      <td>(cp, exng, caa, thall)</td>\n",
              "      <td>0.055952</td>\n",
              "      <td>0.043533</td>\n",
              "      <td>0.021766</td>\n",
              "    </tr>\n",
              "  </tbody>\n",
              "</table>\n",
              "</div>\n",
              "      <button class=\"colab-df-convert\" onclick=\"convertToInteractive('df-58a6a6cc-f735-45d2-9a02-9bfe1cd1beb0')\"\n",
              "              title=\"Convert this dataframe to an interactive table.\"\n",
              "              style=\"display:none;\">\n",
              "        \n",
              "  <svg xmlns=\"http://www.w3.org/2000/svg\" height=\"24px\"viewBox=\"0 0 24 24\"\n",
              "       width=\"24px\">\n",
              "    <path d=\"M0 0h24v24H0V0z\" fill=\"none\"/>\n",
              "    <path d=\"M18.56 5.44l.94 2.06.94-2.06 2.06-.94-2.06-.94-.94-2.06-.94 2.06-2.06.94zm-11 1L8.5 8.5l.94-2.06 2.06-.94-2.06-.94L8.5 2.5l-.94 2.06-2.06.94zm10 10l.94 2.06.94-2.06 2.06-.94-2.06-.94-.94-2.06-.94 2.06-2.06.94z\"/><path d=\"M17.41 7.96l-1.37-1.37c-.4-.4-.92-.59-1.43-.59-.52 0-1.04.2-1.43.59L10.3 9.45l-7.72 7.72c-.78.78-.78 2.05 0 2.83L4 21.41c.39.39.9.59 1.41.59.51 0 1.02-.2 1.41-.59l7.78-7.78 2.81-2.81c.8-.78.8-2.07 0-2.86zM5.41 20L4 18.59l7.72-7.72 1.47 1.35L5.41 20z\"/>\n",
              "  </svg>\n",
              "      </button>\n",
              "      \n",
              "  <style>\n",
              "    .colab-df-container {\n",
              "      display:flex;\n",
              "      flex-wrap:wrap;\n",
              "      gap: 12px;\n",
              "    }\n",
              "\n",
              "    .colab-df-convert {\n",
              "      background-color: #E8F0FE;\n",
              "      border: none;\n",
              "      border-radius: 50%;\n",
              "      cursor: pointer;\n",
              "      display: none;\n",
              "      fill: #1967D2;\n",
              "      height: 32px;\n",
              "      padding: 0 0 0 0;\n",
              "      width: 32px;\n",
              "    }\n",
              "\n",
              "    .colab-df-convert:hover {\n",
              "      background-color: #E2EBFA;\n",
              "      box-shadow: 0px 1px 2px rgba(60, 64, 67, 0.3), 0px 1px 3px 1px rgba(60, 64, 67, 0.15);\n",
              "      fill: #174EA6;\n",
              "    }\n",
              "\n",
              "    [theme=dark] .colab-df-convert {\n",
              "      background-color: #3B4455;\n",
              "      fill: #D2E3FC;\n",
              "    }\n",
              "\n",
              "    [theme=dark] .colab-df-convert:hover {\n",
              "      background-color: #434B5C;\n",
              "      box-shadow: 0px 1px 3px 1px rgba(0, 0, 0, 0.15);\n",
              "      filter: drop-shadow(0px 1px 2px rgba(0, 0, 0, 0.3));\n",
              "      fill: #FFFFFF;\n",
              "    }\n",
              "  </style>\n",
              "\n",
              "      <script>\n",
              "        const buttonEl =\n",
              "          document.querySelector('#df-58a6a6cc-f735-45d2-9a02-9bfe1cd1beb0 button.colab-df-convert');\n",
              "        buttonEl.style.display =\n",
              "          google.colab.kernel.accessAllowed ? 'block' : 'none';\n",
              "\n",
              "        async function convertToInteractive(key) {\n",
              "          const element = document.querySelector('#df-58a6a6cc-f735-45d2-9a02-9bfe1cd1beb0');\n",
              "          const dataTable =\n",
              "            await google.colab.kernel.invokeFunction('convertToInteractive',\n",
              "                                                     [key], {});\n",
              "          if (!dataTable) return;\n",
              "\n",
              "          const docLinkHtml = 'Like what you see? Visit the ' +\n",
              "            '<a target=\"_blank\" href=https://colab.research.google.com/notebooks/data_table.ipynb>data table notebook</a>'\n",
              "            + ' to learn more about interactive tables.';\n",
              "          element.innerHTML = '';\n",
              "          dataTable['output_type'] = 'display_data';\n",
              "          await google.colab.output.renderOutput(dataTable, element);\n",
              "          const docLink = document.createElement('div');\n",
              "          docLink.innerHTML = docLinkHtml;\n",
              "          element.appendChild(docLink);\n",
              "        }\n",
              "      </script>\n",
              "    </div>\n",
              "  </div>\n",
              "  "
            ]
          },
          "metadata": {},
          "execution_count": 28
        }
      ]
    },
    {
      "cell_type": "markdown",
      "source": [
        "**Observaciones**: con un 85% de accuracy el primer renglon del DataFrame toma las ya conocidas variables que revisamos en cada uno de los modelos **cp, slp, caa y thall** , la primera y tercer variable no aparecio dentro de los anteriores modelos, este modelo incluyo una de las caracteristicas la cual es muy importante la cual es **cp**, '_tipo de angina de pecho_'  la cual esta dividida en varias categorias:\n",
        "\n",
        "0. typical angina\n",
        "\n",
        "1. atypical angina\n",
        "\n",
        "2. non-anginal pain\n",
        "\n",
        "3. asymptomatic\n",
        "\n",
        "La siguiente variable no incluida fue **caa** o '_number of mayor vessels floured by colored by fluoroscopy_' la cual es un estudio realizado para deteccion de affeciones coronarias."
      ],
      "metadata": {
        "id": "d9zFhCaKxCqH"
      }
    },
    {
      "cell_type": "code",
      "source": [
        "fig = plt.figure(figsize=(20, 4))\n",
        "\n",
        "plt.plot(\n",
        "    df_efs_best_10.feature_names.astype(str), \n",
        "    df_efs_best_10.avg_score, \n",
        "    color='blue', marker='o'\n",
        ")\n",
        "plt.ylabel('MAE')\n",
        "plt.xlabel('Características')\n",
        "\n",
        "plt.xticks(rotation = 90)\n",
        "\n",
        "plt.show()"
      ],
      "metadata": {
        "colab": {
          "base_uri": "https://localhost:8080/",
          "height": 400
        },
        "id": "HnQ6fxjp0INo",
        "outputId": "deafae6e-36d3-4cff-b5fb-dcfd8d8c0a10"
      },
      "execution_count": 29,
      "outputs": [
        {
          "output_type": "display_data",
          "data": {
            "text/plain": [
              "<Figure size 1440x288 with 1 Axes>"
            ],
            "image/png": "[encoded data removed]"
          },
          "metadata": {
            "needs_background": "light"
          }
        }
      ]
    },
    {
      "cell_type": "markdown",
      "source": [
        "## PCA\n",
        "\n",
        "El análisis de componentes principales es una especie de técnica de reducción de características que podría utilizarse como selección de características. Consiste en reducir la dimensionalidad de características mediante hiperparámetros que incluyan las características que más varianza tengan para explicar un modelo.\n",
        "\n"
      ],
      "metadata": {
        "id": "Go3KR5IE0Qky"
      }
    },
    {
      "cell_type": "code",
      "source": [
        "from sklearn.decomposition import PCA\n",
        "import numpy as np\n",
        "pca = PCA(n_components = 3)\n",
        "pca_model = pca.fit(x_scaled)\n",
        "plt.figure()\n",
        "plt.bar(np.arange(pca_model.n_components_) + 1, pca_model.explained_variance_ratio_)\n",
        "prop_varianza_acum = pca_model.explained_variance_ratio_.cumsum()\n",
        "plt.plot(range(1, 4),prop_varianza_acum, marker = 'o', c='orange', label='Var. acumulada')\n",
        "plt.xticks(np.arange(pca_model.n_components_) + 1)\n",
        "plt.ylim(0, 1.1)\n",
        "plt.xlabel('Componente principal', fontsize=12)\n",
        "plt.ylabel('Varianza explicada', fontsize=16)\n",
        "plt.legend()\n",
        "plt.show()"
      ],
      "metadata": {
        "colab": {
          "base_uri": "https://localhost:8080/",
          "height": 282
        },
        "id": "78JvMdq-0X2x",
        "outputId": "fdf9b761-859b-45bd-e141-4bb7622711a1"
      },
      "execution_count": 30,
      "outputs": [
        {
          "output_type": "display_data",
          "data": {
            "text/plain": [
              "<Figure size 432x288 with 1 Axes>"
            ],
            "image/png": "[encoded data removed]"
          },
          "metadata": {
            "needs_background": "light"
          }
        }
      ]
    },
    {
      "cell_type": "code",
      "source": [
        "pca_coef = pd.DataFrame(\n",
        "  data    = pca_model.components_,\n",
        "  columns = x_scaled.columns,\n",
        "  index = ['pca1', 'pca2', 'pca3']\n",
        ").T.sort_values('pca1', ascending=False)\n",
        "pca_coef"
      ],
      "metadata": {
        "colab": {
          "base_uri": "https://localhost:8080/",
          "height": 457
        },
        "id": "YhRjQoCM0LOI",
        "outputId": "23e2e352-a195-4db0-911c-af201d7e34fb"
      },
      "execution_count": 31,
      "outputs": [
        {
          "output_type": "execute_result",
          "data": {
            "text/plain": [
              "              pca1      pca2      pca3\n",
              "exng      0.755026  0.335511 -0.017662\n",
              "sex       0.419823 -0.890548 -0.081817\n",
              "oldpeak   0.146038  0.052726  0.079872\n",
              "caa       0.124711 -0.014928  0.157091\n",
              "thall     0.123855 -0.040201 -0.027898\n",
              "age       0.048114  0.083154  0.138499\n",
              "fbs       0.037647 -0.073695  0.890368\n",
              "trtbps    0.020800  0.035236  0.133634\n",
              "chol      0.002557  0.062751  0.020950\n",
              "restecg  -0.064966  0.006820 -0.139510\n",
              "thalachh -0.150068 -0.087478 -0.040028\n",
              "slp      -0.224882 -0.135921 -0.216580\n",
              "cp       -0.346381 -0.214570  0.250903"
            ],
            "text/html": [
              "\n",
              "  <div id=\"df-2aab6cbf-0d68-4999-bb1b-018465d795be\">\n",
              "    <div class=\"colab-df-container\">\n",
              "      <div>\n",
              "<style scoped>\n",
              "    .dataframe tbody tr th:only-of-type {\n",
              "        vertical-align: middle;\n",
              "    }\n",
              "\n",
              "    .dataframe tbody tr th {\n",
              "        vertical-align: top;\n",
              "    }\n",
              "\n",
              "    .dataframe thead th {\n",
              "        text-align: right;\n",
              "    }\n",
              "</style>\n",
              "<table border=\"1\" class=\"dataframe\">\n",
              "  <thead>\n",
              "    <tr style=\"text-align: right;\">\n",
              "      <th></th>\n",
              "      <th>pca1</th>\n",
              "      <th>pca2</th>\n",
              "      <th>pca3</th>\n",
              "    </tr>\n",
              "  </thead>\n",
              "  <tbody>\n",
              "    <tr>\n",
              "      <th>exng</th>\n",
              "      <td>0.755026</td>\n",
              "      <td>0.335511</td>\n",
              "      <td>-0.017662</td>\n",
              "    </tr>\n",
              "    <tr>\n",
              "      <th>sex</th>\n",
              "      <td>0.419823</td>\n",
              "      <td>-0.890548</td>\n",
              "      <td>-0.081817</td>\n",
              "    </tr>\n",
              "    <tr>\n",
              "      <th>oldpeak</th>\n",
              "      <td>0.146038</td>\n",
              "      <td>0.052726</td>\n",
              "      <td>0.079872</td>\n",
              "    </tr>\n",
              "    <tr>\n",
              "      <th>caa</th>\n",
              "      <td>0.124711</td>\n",
              "      <td>-0.014928</td>\n",
              "      <td>0.157091</td>\n",
              "    </tr>\n",
              "    <tr>\n",
              "      <th>thall</th>\n",
              "      <td>0.123855</td>\n",
              "      <td>-0.040201</td>\n",
              "      <td>-0.027898</td>\n",
              "    </tr>\n",
              "    <tr>\n",
              "      <th>age</th>\n",
              "      <td>0.048114</td>\n",
              "      <td>0.083154</td>\n",
              "      <td>0.138499</td>\n",
              "    </tr>\n",
              "    <tr>\n",
              "      <th>fbs</th>\n",
              "      <td>0.037647</td>\n",
              "      <td>-0.073695</td>\n",
              "      <td>0.890368</td>\n",
              "    </tr>\n",
              "    <tr>\n",
              "      <th>trtbps</th>\n",
              "      <td>0.020800</td>\n",
              "      <td>0.035236</td>\n",
              "      <td>0.133634</td>\n",
              "    </tr>\n",
              "    <tr>\n",
              "      <th>chol</th>\n",
              "      <td>0.002557</td>\n",
              "      <td>0.062751</td>\n",
              "      <td>0.020950</td>\n",
              "    </tr>\n",
              "    <tr>\n",
              "      <th>restecg</th>\n",
              "      <td>-0.064966</td>\n",
              "      <td>0.006820</td>\n",
              "      <td>-0.139510</td>\n",
              "    </tr>\n",
              "    <tr>\n",
              "      <th>thalachh</th>\n",
              "      <td>-0.150068</td>\n",
              "      <td>-0.087478</td>\n",
              "      <td>-0.040028</td>\n",
              "    </tr>\n",
              "    <tr>\n",
              "      <th>slp</th>\n",
              "      <td>-0.224882</td>\n",
              "      <td>-0.135921</td>\n",
              "      <td>-0.216580</td>\n",
              "    </tr>\n",
              "    <tr>\n",
              "      <th>cp</th>\n",
              "      <td>-0.346381</td>\n",
              "      <td>-0.214570</td>\n",
              "      <td>0.250903</td>\n",
              "    </tr>\n",
              "  </tbody>\n",
              "</table>\n",
              "</div>\n",
              "      <button class=\"colab-df-convert\" onclick=\"convertToInteractive('df-2aab6cbf-0d68-4999-bb1b-018465d795be')\"\n",
              "              title=\"Convert this dataframe to an interactive table.\"\n",
              "              style=\"display:none;\">\n",
              "        \n",
              "  <svg xmlns=\"http://www.w3.org/2000/svg\" height=\"24px\"viewBox=\"0 0 24 24\"\n",
              "       width=\"24px\">\n",
              "    <path d=\"M0 0h24v24H0V0z\" fill=\"none\"/>\n",
              "    <path d=\"M18.56 5.44l.94 2.06.94-2.06 2.06-.94-2.06-.94-.94-2.06-.94 2.06-2.06.94zm-11 1L8.5 8.5l.94-2.06 2.06-.94-2.06-.94L8.5 2.5l-.94 2.06-2.06.94zm10 10l.94 2.06.94-2.06 2.06-.94-2.06-.94-.94-2.06-.94 2.06-2.06.94z\"/><path d=\"M17.41 7.96l-1.37-1.37c-.4-.4-.92-.59-1.43-.59-.52 0-1.04.2-1.43.59L10.3 9.45l-7.72 7.72c-.78.78-.78 2.05 0 2.83L4 21.41c.39.39.9.59 1.41.59.51 0 1.02-.2 1.41-.59l7.78-7.78 2.81-2.81c.8-.78.8-2.07 0-2.86zM5.41 20L4 18.59l7.72-7.72 1.47 1.35L5.41 20z\"/>\n",
              "  </svg>\n",
              "      </button>\n",
              "      \n",
              "  <style>\n",
              "    .colab-df-container {\n",
              "      display:flex;\n",
              "      flex-wrap:wrap;\n",
              "      gap: 12px;\n",
              "    }\n",
              "\n",
              "    .colab-df-convert {\n",
              "      background-color: #E8F0FE;\n",
              "      border: none;\n",
              "      border-radius: 50%;\n",
              "      cursor: pointer;\n",
              "      display: none;\n",
              "      fill: #1967D2;\n",
              "      height: 32px;\n",
              "      padding: 0 0 0 0;\n",
              "      width: 32px;\n",
              "    }\n",
              "\n",
              "    .colab-df-convert:hover {\n",
              "      background-color: #E2EBFA;\n",
              "      box-shadow: 0px 1px 2px rgba(60, 64, 67, 0.3), 0px 1px 3px 1px rgba(60, 64, 67, 0.15);\n",
              "      fill: #174EA6;\n",
              "    }\n",
              "\n",
              "    [theme=dark] .colab-df-convert {\n",
              "      background-color: #3B4455;\n",
              "      fill: #D2E3FC;\n",
              "    }\n",
              "\n",
              "    [theme=dark] .colab-df-convert:hover {\n",
              "      background-color: #434B5C;\n",
              "      box-shadow: 0px 1px 3px 1px rgba(0, 0, 0, 0.15);\n",
              "      filter: drop-shadow(0px 1px 2px rgba(0, 0, 0, 0.3));\n",
              "      fill: #FFFFFF;\n",
              "    }\n",
              "  </style>\n",
              "\n",
              "      <script>\n",
              "        const buttonEl =\n",
              "          document.querySelector('#df-2aab6cbf-0d68-4999-bb1b-018465d795be button.colab-df-convert');\n",
              "        buttonEl.style.display =\n",
              "          google.colab.kernel.accessAllowed ? 'block' : 'none';\n",
              "\n",
              "        async function convertToInteractive(key) {\n",
              "          const element = document.querySelector('#df-2aab6cbf-0d68-4999-bb1b-018465d795be');\n",
              "          const dataTable =\n",
              "            await google.colab.kernel.invokeFunction('convertToInteractive',\n",
              "                                                     [key], {});\n",
              "          if (!dataTable) return;\n",
              "\n",
              "          const docLinkHtml = 'Like what you see? Visit the ' +\n",
              "            '<a target=\"_blank\" href=https://colab.research.google.com/notebooks/data_table.ipynb>data table notebook</a>'\n",
              "            + ' to learn more about interactive tables.';\n",
              "          element.innerHTML = '';\n",
              "          dataTable['output_type'] = 'display_data';\n",
              "          await google.colab.output.renderOutput(dataTable, element);\n",
              "          const docLink = document.createElement('div');\n",
              "          docLink.innerHTML = docLinkHtml;\n",
              "          element.appendChild(docLink);\n",
              "        }\n",
              "      </script>\n",
              "    </div>\n",
              "  </div>\n",
              "  "
            ]
          },
          "metadata": {},
          "execution_count": 31
        }
      ]
    },
    {
      "cell_type": "code",
      "source": [
        "formula = ''\n",
        "for i, r in pca_coef.iterrows():\n",
        "    formula = formula +  str(round(r.pca1, 4)) + ' \\text{' + i + '} + '\n",
        "formula"
      ],
      "metadata": {
        "colab": {
          "base_uri": "https://localhost:8080/",
          "height": 70
        },
        "id": "5MlUot0X0p64",
        "outputId": "51fd07ba-c9fd-4f25-a87b-f9de906de6dd"
      },
      "execution_count": 33,
      "outputs": [
        {
          "output_type": "execute_result",
          "data": {
            "text/plain": [
              "'0.75503 \\text{exng} + 0.41982 \\text{sex} + 0.14604 \\text{oldpeak} + 0.12471 \\text{caa} + 0.12386 \\text{thall} + 0.04811 \\text{age} + 0.03765 \\text{fbs} + 0.0208 \\text{trtbps} + 0.00256 \\text{chol} + -0.06497 \\text{restecg} + -0.15007 \\text{thalachh} + -0.22488 \\text{slp} + -0.34638 \\text{cp} + '"
            ],
            "application/vnd.google.colaboratory.intrinsic+json": {
              "type": "string"
            }
          },
          "metadata": {},
          "execution_count": 33
        }
      ]
    },
    {
      "cell_type": "markdown",
      "source": [
        "$PCA_1 = 0.7550 * exng + 0.4198 * sex + 0.1460 * oldpeak + 0.1247 * caa"
      ],
      "metadata": {
        "id": "_vP9hQP61JFc"
      }
    },
    {
      "cell_type": "markdown",
      "source": [
        "**Resumen**:\n",
        "\n",
        "A continuación se agregara las primera 4 variables de cada uno de los  modelos con el fin de comparar similitudes y basados en la teoría y análisis clínicos determinar cuales variables son importantes a considerar y cuales no estuvieron presentes a pesar de tener información útil.\n",
        "\n",
        "\n",
        "\\begin{array}{ccc}\n",
        "\\text{Modelo}&\\text{Variable}&\\text{Variables presentes en Análisis clínicos}\\\\\n",
        "Anova F-value&exgn, cp, thalla, oldpeak & si \\\\ Umbral de varianza & age, cp, oldpeak,\tslp\t& si \\\\ RFE & sex,exng,slp,thall & si \\\\ Información mutua & thall, oldpeak, slp, age & si \\\\ Seleccion de caracteristicas exhaustiva & cp, slp, caa , thall & si \\\\ PCA & PCA_1 = 0.7550 * exng + 0.4198 * sex + 0.1460 * oldpeak + 0.1247 * caa  & si\n",
        "\\end{array}"
      ],
      "metadata": {
        "id": "r6E_K7sX2VqA"
      }
    },
    {
      "cell_type": "markdown",
      "source": [
        "Conclusiones: Basado en la tabla anterior se pueden ver similitudes en la selección de variables, en los cuales algunos modelos tuvieron un buen desempeño de predicción en nuestra variable de respuesta.\n",
        "\n",
        "Las variables que consideramos tanto por estar presentes en los modelos así como en los estudios clínicos que se encontraron eran muy importantes para la detección de afecciones cardiacas o detección de alguna anomalías son:\n",
        "**cp, exng, slp, thall, caa, trtbps**\n",
        "\n",
        "Dos de las variables que aparecieron en algunos de los modelos y no se consideran \n",
        "son **age** y **sex**, para el caso de la variable **age** (Edad), esta no influye ya que estudios han confirmado que existen registros de personas jóvenes las cuales tienen ataques al corazón esto por diversos factores y hábitos tales como fumar , alimentación etc..\n",
        "\n",
        "Para la variable **sex** la informacion y el estudio clinico se anexo en la seccion del modelo **RFE**\n",
        "\n",
        "\n",
        "Anexo links con informacion extra:\n",
        "\n",
        "[Young people heart attacks](https://www.cminj.com/blog/whats-behind-the-rise-in-heart-attacks-among-young-people#:~:text=Now%201%20in%205%20heart,in%20this%20young%20age%20group.)\n",
        "\n",
        "[Data dictionary](https://www.kaggle.com/datasets/rashikrahmanpritom/heart-attack-analysis-prediction-dataset/discussion/329925?search=slope+of+the+peak+exercise)\n",
        "\n",
        "[ST-Segment](https://litfl.com/st-segment-ecg-library/)\n",
        "\n",
        "[Thallium Stress test](https://www.healthline.com/health/thallium-stress-test#procedure)\n",
        "\n",
        "[ECG](http://es.heart.erasmusnursing.net/content/2-0-fisiologia-cardiaca/2-4-electrocardiograma-ecg/)\n"
      ],
      "metadata": {
        "id": "HmG373lc68bP"
      }
    }
  ]
}